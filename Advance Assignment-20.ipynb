{
 "cells": [
  {
   "cell_type": "markdown",
   "id": "4ef7ff75",
   "metadata": {},
   "source": [
    "# Advance Assignment-20"
   ]
  },
  {
   "cell_type": "code",
   "execution_count": 1,
   "id": "76801bac",
   "metadata": {},
   "outputs": [],
   "source": [
    "# Q1. Compare and contrast the float and Decimal classes' benefits and drawbacks ?"
   ]
  },
  {
   "cell_type": "code",
   "execution_count": null,
   "id": "73a33d62",
   "metadata": {},
   "outputs": [],
   "source": [
    "# Ans;\n",
    "\n",
    "Both the float and decimal types store numerical values in Python.\n",
    "\n",
    "We use floats when convenience and speed matter. A float gives us an approximation of the number we declare.\n",
    "\n",
    "We use decimals when precision matters. Decimals can suffer from their own precision issues, but generally, decimals are more precise than floats. \n",
    "The performance difference between float and decimal, with Python 3, is not outlandish, and in my experience, the precision benefits of a decimal outweigh the performance benefits of a float."
   ]
  },
  {
   "cell_type": "code",
   "execution_count": null,
   "id": "748a0af2",
   "metadata": {},
   "outputs": [],
   "source": [
    "# Q2 : Decimal('1.200') and Decimal('1.2') are two objects to consider. In what sense are these the same object? \n",
    "#     Are these just two ways of representing the exact same value, or do they correspond to different internal states ?"
   ]
  },
  {
   "cell_type": "code",
   "execution_count": null,
   "id": "59fb2384",
   "metadata": {},
   "outputs": [],
   "source": [
    "# Ans;\n",
    "\n",
    "Both values are same but internal representation at storage Is different. \n",
    "Precsion differs, Decimal('1.200') gives internally 1.200 and Decimal('1.2') gives 1.2."
   ]
  },
  {
   "cell_type": "code",
   "execution_count": 3,
   "id": "e9e3fc80",
   "metadata": {},
   "outputs": [],
   "source": [
    "# Q3 : What happens if the equality of Decimal('1.200') and Decimal('1.2') is checked ?"
   ]
  },
  {
   "cell_type": "code",
   "execution_count": null,
   "id": "8f62630e",
   "metadata": {},
   "outputs": [],
   "source": [
    "# Ans;\n",
    "\n",
    "Both values are checked to be equal since they only differ in precision."
   ]
  },
  {
   "cell_type": "code",
   "execution_count": 4,
   "id": "8e75252f",
   "metadata": {},
   "outputs": [],
   "source": [
    "# Q4 : Why is it preferable to start a Decimal object with a string rather than a floating-point value ?"
   ]
  },
  {
   "cell_type": "code",
   "execution_count": null,
   "id": "97367682",
   "metadata": {},
   "outputs": [],
   "source": [
    "# Ans;\n",
    "\n",
    "Floating-point value is converted to Decimal format. \n",
    "Decimal can store float value with absolute precision. \n",
    "But when float value is given as Decimal object,it first has to be converted from floating point value which might already have rounding error.\n",
    "\n",
    "Hence it is preferable to start a Decimal object with a string."
   ]
  },
  {
   "cell_type": "code",
   "execution_count": 5,
   "id": "ef033a52",
   "metadata": {},
   "outputs": [],
   "source": [
    "# Q5 :  In an arithmetic phrase, how simple is it to combine Decimal objects with integers ?"
   ]
  },
  {
   "cell_type": "code",
   "execution_count": null,
   "id": "a15f4d75",
   "metadata": {},
   "outputs": [],
   "source": [
    "# Ans;\n",
    "\n",
    "We can do it with use of Decimal()."
   ]
  },
  {
   "cell_type": "code",
   "execution_count": null,
   "id": "fd458978",
   "metadata": {},
   "outputs": [],
   "source": [
    "# Q6 : Can Decimal objects and floating-point values be combined easily ?"
   ]
  },
  {
   "cell_type": "code",
   "execution_count": null,
   "id": "9079ff5e",
   "metadata": {},
   "outputs": [],
   "source": [
    "# Ans;\n",
    "\n",
    "Arithmetic operfations like Adding,subtracting or multiplying a Decimal object by a floating-point value generates an error.\n",
    "\n",
    "To do these operations, the floating point has to be converted to a Decimal."
   ]
  },
  {
   "cell_type": "code",
   "execution_count": null,
   "id": "becbcd94",
   "metadata": {},
   "outputs": [],
   "source": [
    "# Q7 : Using the Fraction class but not the Decimal class.\n",
    "#      Give an example of a quantity that can be expressed with absolute precision ?"
   ]
  },
  {
   "cell_type": "code",
   "execution_count": null,
   "id": "275521c8",
   "metadata": {},
   "outputs": [],
   "source": [
    "# Ans;\n",
    "\n",
    "Value of 0.5 will be represented as ½."
   ]
  },
  {
   "cell_type": "code",
   "execution_count": 6,
   "id": "84f24556",
   "metadata": {},
   "outputs": [],
   "source": [
    "# Q8 : Consider the following two fraction objects: Fraction(1, 2) and Fraction(1, 2). (5, 10). \n",
    "#      Is the internal state of these two objects the same? Why do you think that is ?"
   ]
  },
  {
   "cell_type": "code",
   "execution_count": null,
   "id": "1be7e0f1",
   "metadata": {},
   "outputs": [],
   "source": [
    "# Ans;\n",
    "\n",
    "Both will be reduced to 1/2"
   ]
  },
  {
   "cell_type": "code",
   "execution_count": null,
   "id": "09023551",
   "metadata": {},
   "outputs": [],
   "source": [
    "# Q9 : How do the Fraction class and the integer type (int) relate to each other? Containment or inheritance ?\n"
   ]
  },
  {
   "cell_type": "code",
   "execution_count": null,
   "id": "2329453f",
   "metadata": {},
   "outputs": [],
   "source": [
    "# Ans;\n",
    "\n",
    "Fraction class and integer type(int) are related in form of a container. \n",
    "It contains two ints, one in the numerator and the other in the denominator"
   ]
  }
 ],
 "metadata": {
  "kernelspec": {
   "display_name": "Python 3 (ipykernel)",
   "language": "python",
   "name": "python3"
  },
  "language_info": {
   "codemirror_mode": {
    "name": "ipython",
    "version": 3
   },
   "file_extension": ".py",
   "mimetype": "text/x-python",
   "name": "python",
   "nbconvert_exporter": "python",
   "pygments_lexer": "ipython3",
   "version": "3.9.12"
  }
 },
 "nbformat": 4,
 "nbformat_minor": 5
}
